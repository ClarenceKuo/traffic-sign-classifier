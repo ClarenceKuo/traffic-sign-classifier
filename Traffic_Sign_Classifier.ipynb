{
 "cells": [
  {
   "cell_type": "markdown",
   "metadata": {},
   "source": [
    "# Traffic Sign Classifier with TensorFlow\n",
    "-  Strcuture: Modified LeNet-5\n",
    "- Dataset Source:"
   ]
  },
  {
   "cell_type": "markdown",
   "metadata": {},
   "source": [
    "# Load The Data"
   ]
  },
  {
   "cell_type": "code",
   "execution_count": null,
   "metadata": {},
   "outputs": [],
   "source": [
    "#import\n",
    "import pickle\n",
    "import cv2\n",
    "import tensorflow as tf\n",
    "import pandas as pd\n",
    "import matplotlib.pyplot as plt\n",
    "import random\n",
    "import numpy as np\n",
    "import tensorflow as tf\n",
    "from tensorflow.contrib.layers import flatten\n",
    "from sklearn.utils import shuffle"
   ]
  },
  {
   "cell_type": "code",
   "execution_count": null,
   "metadata": {},
   "outputs": [],
   "source": [
    "# Load pickled data\n",
    "import pickle\n",
    "\n",
    "training_file = \"train.p\"\n",
    "validation_file= \"valid.p\"\n",
    "testing_file = \"test.p\"\n",
    "\n",
    "with open(training_file, mode='rb') as f:\n",
    "    train = pickle.load(f)\n",
    "with open(validation_file, mode='rb') as f:\n",
    "    valid = pickle.load(f)\n",
    "with open(testing_file, mode='rb') as f:\n",
    "    test = pickle.load(f)\n",
    "    \n",
    "X_train, y_train = train['features'], train['labels']\n",
    "X_valid, y_valid = valid['features'], valid['labels']\n",
    "X_test, y_test = test['features'], test['labels']"
   ]
  },
  {
   "cell_type": "markdown",
   "metadata": {},
   "source": [
    "---\n",
    "\n",
    "## Step 1: Dataset Summary & Exploration\n",
    "\n",
    "The pickled data is a dictionary with 4 key/value pairs:\n",
    "\n",
    "- `'features'` is a 4D array containing raw pixel data of the traffic sign images, (num examples, width, height, channels).\n",
    "- `'labels'` is a 1D array containing the label/class id of the traffic sign. The file `signnames.csv` contains id -> name mappings for each id.\n",
    "- `'sizes'` is a list containing tuples, (width, height) representing the original width and height the image.\n",
    "- `'coords'` is a list containing tuples, (x1, y1, x2, y2) representing coordinates of a bounding box around the sign in the image."
   ]
  },
  {
   "cell_type": "markdown",
   "metadata": {},
   "source": [
    "### Provide a Basic Summary of the Data Set Using Python, Numpy and/or Pandas"
   ]
  },
  {
   "cell_type": "code",
   "execution_count": null,
   "metadata": {
    "collapsed": true
   },
   "outputs": [],
   "source": [
    "# Number of training examples\n",
    "n_train = len(X_train)\n",
    "\n",
    "# Number of validation examples\n",
    "n_validation = len(X_valid)\n",
    "\n",
    "# Number of testing examples.\n",
    "n_test = len(X_test)\n",
    "\n",
    "# What's the shape of an traffic sign image?\n",
    "image_shape = X_train[0].shape\n",
    "\n",
    "# How many unique classes/labels there are in the dataset.\n",
    "n_classes = len(pd.unique(y_train))\n",
    "assert(len(X_train) == len(y_train))\n",
    "assert(len(X_valid) == len(y_valid))\n",
    "assert(len(X_test) == len(y_test))\n",
    "\n",
    "print(\"Number of training examples =\", n_train)\n",
    "print(\"Number of testing examples =\", n_test)\n",
    "print(\"Image data shape =\", image_shape)\n",
    "print(\"Number of classes =\", n_classes)"
   ]
  },
  {
   "cell_type": "markdown",
   "metadata": {},
   "source": [
    "### Include an exploratory visualization of the dataset"
   ]
  },
  {
   "cell_type": "markdown",
   "metadata": {},
   "source": [
    "Visualize the German Traffic Signs Dataset using the pickled file(s). This is open ended, suggestions include: plotting traffic sign images, plotting the count of each sign, etc. \n",
    "\n",
    "The [Matplotlib](http://matplotlib.org/) [examples](http://matplotlib.org/examples/index.html) and [gallery](http://matplotlib.org/gallery.html) pages are a great resource for doing visualizations in Python.\n",
    "\n",
    "**NOTE:** It's recommended you start with something simple first. If you wish to do more, come back to it after you've completed the rest of the sections. It can be interesting to look at the distribution of classes in the training, validation and test set. Is the distribution the same? Are there more examples of some classes than others?"
   ]
  },
  {
   "cell_type": "code",
   "execution_count": 16,
   "metadata": {
    "collapsed": true
   },
   "outputs": [],
   "source": [
    "import matplotlib.pyplot as plt\n",
    "# Visualizations will be shown in the notebook.\n",
    "%matplotlib inline\n",
    "\n",
    "index = random.randint(0, len(X_train))\n",
    "\n",
    "plt.figure(figsize=(1,1))\n",
    "plt.imshow(X_train[index], cmap=\"gray\")\n",
    "print(\"Index: {}\".format(index))\n",
    "print(y_train[index])"
   ]
  },
  {
   "cell_type": "markdown",
   "metadata": {},
   "source": [
    "----\n",
    "\n",
    "## Step 2: Design and Test a Model Architecture\n",
    "\n",
    "Design and implement a deep learning model that learns to recognize traffic signs. Train and test your model on the [German Traffic Sign Dataset](http://benchmark.ini.rub.de/?section=gtsrb&subsection=dataset).\n",
    "\n",
    "The LeNet-5 implementation shown in the [classroom](https://classroom.udacity.com/nanodegrees/nd013/parts/fbf77062-5703-404e-b60c-95b78b2f3f9e/modules/6df7ae49-c61c-4bb2-a23e-6527e69209ec/lessons/601ae704-1035-4287-8b11-e2c2716217ad/concepts/d4aca031-508f-4e0b-b493-e7b706120f81) at the end of the CNN lesson is a solid starting point. You'll have to change the number of classes and possibly the preprocessing, but aside from that it's plug and play! \n",
    "\n",
    "With the LeNet-5 solution from the lecture, you should expect a validation set accuracy of about 0.89. To meet specifications, the validation set accuracy will need to be at least 0.93. It is possible to get an even higher accuracy, but 0.93 is the minimum for a successful project submission. \n",
    "\n",
    "There are various aspects to consider when thinking about this problem:\n",
    "\n",
    "- Neural network architecture (is the network over or underfitting?)\n",
    "- Play around preprocessing techniques (normalization, rgb to grayscale, etc)\n",
    "- Number of examples per label (some have more than others).\n",
    "- Generate fake data.\n",
    "\n",
    "Here is an example of a [published baseline model on this problem](http://yann.lecun.com/exdb/publis/pdf/sermanet-ijcnn-11.pdf). It's not required to be familiar with the approach used in the paper but, it's good practice to try to read papers like these."
   ]
  },
  {
   "cell_type": "markdown",
   "metadata": {},
   "source": [
    "### Pre-process the Data Set (normalization, grayscale, etc.)"
   ]
  },
  {
   "cell_type": "markdown",
   "metadata": {},
   "source": [
    "Minimally, the image data should be normalized so that the data has mean zero and equal variance. For image data, `(pixel - 128)/ 128` is a quick way to approximately normalize the data and can be used in this project. \n",
    "\n",
    "Other pre-processing steps are optional. You can try different techniques to see if it improves performance. \n",
    "\n",
    "Use the code cell (or multiple code cells, if necessary) to implement the first step of your project."
   ]
  },
  {
   "cell_type": "code",
   "execution_count": 4,
   "metadata": {
    "collapsed": true
   },
   "outputs": [],
   "source": [
    "x_min = X_train.min()\n",
    "x_max = X_train.max()\n",
    "X_train_std = (X_train - x_min)/(x_max - x_min)\n",
    "X_valid_std = (X_valid - x_min)/(x_max - x_min)\n",
    "X_test_std = (X_test - x_min)/(x_max - x_min)"
   ]
  },
  {
   "cell_type": "code",
   "execution_count": null,
   "metadata": {},
   "outputs": [],
   "source": [
    "f, axarr = plt.subplots(1,2)\n",
    "index = random.randint(0, len(X_train))\n",
    "axarr[0].imshow(X_train[index])\n",
    "axarr[1].imshow(X_train_std[index])\n",
    "print(np.max(X_train[index]))\n",
    "print(np.max(X_train_std[index]))"
   ]
  },
  {
   "cell_type": "markdown",
   "metadata": {},
   "source": [
    "### Model Architecture"
   ]
  },
  {
   "cell_type": "code",
   "execution_count": null,
   "metadata": {
    "collapsed": true
   },
   "outputs": [],
   "source": [
    "# Input variable\n",
    "#Input image batch\n",
    "x = tf.placeholder(tf.float32, (None, 32, 32, 3))\n",
    "\n",
    "#Input label batch\n",
    "y = tf.placeholder(tf.int32, (None))\n",
    "\n",
    "#Encoding \n",
    "one_hot_y = tf.one_hot(y, 43)"
   ]
  },
  {
   "cell_type": "code",
   "execution_count": null,
   "metadata": {},
   "outputs": [],
   "source": [
    "#Main structure: LeNet\n",
    "def LeNet(x, w_mu = 0, b_mu = 0.05, sigma = 0.05, keep_prob = 1):\n",
    "    F_W = {\n",
    "        \"c1\": tf.Variable(tf.truncated_normal([5, 5, 3, 10], mean = w_mu, stddev = sigma)),\n",
    "        \"c2\": tf.Variable(tf.truncated_normal([5, 5, 10, 18], mean = w_mu, stddev = sigma)),\n",
    "        \"c3\": tf.Variable(tf.truncated_normal([5, 5, 18, 26], mean = w_mu, stddev = sigma)),\n",
    "        \"f3\": tf.Variable(tf.truncated_normal([650, 400], mean = w_mu, stddev = sigma)),\n",
    "        \"f4\": tf.Variable(tf.truncated_normal([400, 240], mean = w_mu, stddev = sigma)),\n",
    "        \"out\": tf.Variable(tf.truncated_normal([240, 43], mean = w_mu, stddev = sigma))\n",
    "    }\n",
    "    F_B = {\n",
    "        \"c1\": tf.Variable(tf.truncated_normal([10], mean = b_mu, stddev = sigma)),\n",
    "        \"c2\": tf.Variable(tf.truncated_normal([18], mean = b_mu, stddev = sigma)),\n",
    "        \"c3\": tf.Variable(tf.truncated_normal([26], mean = b_mu, stddev = sigma)),\n",
    "        \"f3\": tf.Variable(tf.truncated_normal([400], mean = b_mu, stddev = sigma)),\n",
    "        \"f4\": tf.Variable(tf.truncated_normal([240], mean = b_mu, stddev = sigma)),\n",
    "        \"out\": tf.Variable(tf.truncated_normal([43], mean = b_mu, stddev = sigma))\n",
    "    }\n",
    "    # L1: Convolutional\n",
    "    padding = \"VALID\"\n",
    "    strides = [1,1,1,1]\n",
    "    l1 = tf.nn.conv2d(x, F_W[\"c1\"], strides, padding) + F_B[\"c1\"]\n",
    "    l1_relu = tf.nn.relu(l1)\n",
    "\n",
    "    # L1 Pooling\n",
    "    strides = [1,2,2,1]\n",
    "    ksize = [1,2,2,1]\n",
    "    l1_p = tf.nn.max_pool(l1_relu, ksize, strides, padding)\n",
    "    \n",
    "    # L2: Convolutional\n",
    "    strides = [1,1,1,1]\n",
    "    l2 = tf.nn.conv2d(l1_p, F_W[\"c2\"], strides, padding) + F_B[\"c2\"]\n",
    "    l2_relu = tf.nn.relu(l2)\n",
    "    \n",
    "    # L2 Pooling\n",
    "    strides = [1,2,2,1]\n",
    "    l2_p = tf.nn.max_pool(l2_relu, ksize, strides, padding)\n",
    "    \n",
    "    # L3: Convolutional\n",
    "    strides = [1,1,1,1]\n",
    "    padding = \"SAME\"\n",
    "    l3 = tf.nn.conv2d(l2_p, F_W[\"c3\"], strides, padding) + F_B[\"c3\"]\n",
    "    l3_relu = tf.nn.relu(l3)\n",
    "    \n",
    "    # Flatten\n",
    "    flat = flatten(l3_relu)\n",
    "    \n",
    "    # L3: Fully Connected\n",
    "    l4 = tf.add(tf.matmul(flat,F_W[\"f3\"]),F_B[\"f3\"])\n",
    "    l4_relu = tf.nn.relu(l4)\n",
    "    \n",
    "    # L4: Fully Connected\n",
    "    l5 = tf.add(tf.matmul(l4_relu,F_W[\"f4\"]),F_B[\"f4\"])\n",
    "    l5_relu = tf.nn.relu(l5)\n",
    "    l5_relu = tf.nn.dropout(l5_relu, keep_prob)\n",
    "    \n",
    "    # L5: Fully Connected\n",
    "    logits = tf.add(tf.matmul(l5_relu,F_W[\"out\"]),F_B[\"out\"])\n",
    "    \n",
    "    return logits"
   ]
  },
  {
   "cell_type": "markdown",
   "metadata": {},
   "source": [
    "### Train, Validate and Test the Model"
   ]
  },
  {
   "cell_type": "code",
   "execution_count": 1,
   "metadata": {
    "collapsed": true
   },
   "outputs": [],
   "source": [
    "#Training pipeline\n",
    "rate = 0.002\n",
    "logits = LeNet(x)\n",
    "cross_entropy = tf.nn.softmax_cross_entropy_with_logits(labels=one_hot_y, logits=logits)\n",
    "loss_operation = tf.reduce_mean(cross_entropy)\n",
    "optimizer = tf.train.AdamOptimizer(learning_rate = rate)\n",
    "training_operation = optimizer.minimize(loss_operation)\n",
    "correct_prediction = tf.equal(tf.argmax(logits, 1), tf.argmax(one_hot_y, 1))\n",
    "accuracy_operation = tf.reduce_mean(tf.cast(correct_prediction, tf.float32))\n",
    "\n",
    "#saver setup\n",
    "saver = tf.train.Saver()"
   ]
  },
  {
   "cell_type": "code",
   "execution_count": null,
   "metadata": {},
   "outputs": [],
   "source": [
    "#Hyperparameters\n",
    "EPOCHS = 14\n",
    "BATCH_SIZE = 128\n",
    "def evaluate(X_data, y_data):\n",
    "    num_examples = len(X_data)\n",
    "    total_accuracy = 0\n",
    "    sess = tf.get_default_session()\n",
    "    for offset in range(0, num_examples, BATCH_SIZE):\n",
    "        batch_x, batch_y = X_data[offset:offset+BATCH_SIZE], y_data[offset:offset+BATCH_SIZE]\n",
    "        accuracy = sess.run(accuracy_operation, feed_dict={x: batch_x, y: batch_y})\n",
    "        total_accuracy += (accuracy * len(batch_x))\n",
    "    return total_accuracy / num_examples"
   ]
  },
  {
   "cell_type": "code",
   "execution_count": null,
   "metadata": {},
   "outputs": [],
   "source": [
    "# Training\n",
    "%%capture\n",
    "with tf.Session() as sess:\n",
    "    sess.run(tf.global_variables_initializer())\n",
    "    num_examples = len(X_train_std)\n",
    "    print(\"Training...\")\n",
    "    print()\n",
    "    for i in range(EPOCHS):\n",
    "        X_train_std, y_train = shuffle(X_train_std, y_train)\n",
    "        for offset in range(0, num_examples, BATCH_SIZE):\n",
    "            end = offset + BATCH_SIZE\n",
    "            batch_x, batch_y = X_train_std[offset:end], y_train[offset:end]\n",
    "            sess.run(training_operation, feed_dict={x: batch_x, y: batch_y})\n",
    "        training_accuracy = evaluate(X_train_std,y_train)    \n",
    "        validation_accuracy = evaluate(X_valid_std, y_valid)\n",
    "\n",
    "        print(\"EPOCH {} ...\".format(i+1))\n",
    "        print(\"Training Accuracy = {:.3f}\".format(training_accuracy))\n",
    "        print(\"Validation Accuracy = {:.3f}\".format(validation_accuracy))\n",
    "        print()\n",
    "    saver.save(sess, './lenet') \n",
    "    print(\"Model saved\")"
   ]
  },
  {
   "cell_type": "markdown",
   "metadata": {},
   "source": [
    "---\n",
    "\n",
    "## Step 3: Test a Model on New Images\n",
    "\n",
    "To give yourself more insight into how your model is working, download at least five pictures of German traffic signs from the web and use your model to predict the traffic sign type.\n",
    "\n",
    "You may find `signnames.csv` useful as it contains mappings from the class id (integer) to the actual sign name."
   ]
  },
  {
   "cell_type": "markdown",
   "metadata": {},
   "source": [
    "### Load and Output the Images"
   ]
  },
  {
   "cell_type": "code",
   "execution_count": null,
   "metadata": {
    "collapsed": true
   },
   "outputs": [],
   "source": [
    "#Load image fetched from internet\n",
    "dim = (32, 32)\n",
    "img_path = {2:\"./newImage/2.png\",3:\"./newImage/3.jpg\",4:\"./newImage/4.jpeg\",5:\"./newImage/5.jpg\",6:\"./newImage/6.jpg\"}\n",
    "img_gallary = []\n",
    "for i in img_path:\n",
    "    img = cv2.imread(img_path[i])\n",
    "    img = cv2.resize(img, dim, interpolation = cv2.INTER_AREA)\n",
    "    img_rgb = img[:,:,::-1]\n",
    "    img_gallary.append(img_rgb)\n",
    "\n",
    "# Compress to 4D np array\n",
    "input4d = np.stack(img_gallary, axis=0)\n",
    "\n",
    "# data preprocess\n",
    "x_min = input4d.min()\n",
    "x_max = input4d.max()\n",
    "input4d = (input4d - x_min)/(x_max - x_min)\n",
    "\n",
    "# Correct label\n",
    "labels = [40,3,26,25,31]"
   ]
  },
  {
   "cell_type": "code",
   "execution_count": null,
   "metadata": {},
   "outputs": [],
   "source": [
    "# Preview of inputs\n",
    "f, axarr = plt.subplots(1,5)\n",
    "for i in range(len(img_gallary)):\n",
    "    axarr[i].imshow(img_gallary[i])\n",
    "plt.show()"
   ]
  },
  {
   "cell_type": "code",
   "execution_count": null,
   "metadata": {},
   "outputs": [],
   "source": [
    "# Reset tf model\n",
    "tf.reset_default_graph()"
   ]
  },
  {
   "cell_type": "code",
   "execution_count": null,
   "metadata": {},
   "outputs": [],
   "source": [
    "# tf inputs\n",
    "#Input image batch\n",
    "x = tf.placeholder(tf.float32, (None, 32, 32, 3))\n",
    "\n",
    "#Input label batch\n",
    "y = tf.placeholder(tf.int32, (None))\n",
    "rate = 0\n",
    "#Encoding \n",
    "one_hot_y = tf.one_hot(y, 44)\n",
    "\n",
    "#items will retrive from metadata\n",
    "logits = LeNet(x)\n",
    "correct_prediction = tf.equal(tf.argmax(logits, 1), tf.argmax(one_hot_y, 1))\n",
    "accuracy_operation = tf.reduce_mean(tf.cast(correct_prediction, tf.float32))\n",
    "saver = tf.train.Saver()"
   ]
  },
  {
   "cell_type": "markdown",
   "metadata": {},
   "source": [
    "### Predict and anlyze the Sign Type"
   ]
  },
  {
   "cell_type": "code",
   "execution_count": null,
   "metadata": {},
   "outputs": [],
   "source": [
    "# Testing\n",
    "with tf.Session() as sess:\n",
    "    # Loading trained model\n",
    "    saver.restore(sess, \"./lenet\")\n",
    "    print(\"Load completed\")\n",
    "\n",
    "    #Check accuracy\n",
    "    accuracy = sess.run(accuracy_operation, feed_dict={x: input4d, y: labels})\n",
    "    eva_accuracy = evaluate(input4d,labels)\n",
    "    print(\"Accuracy = {:.2f}\".format(accuracy))\n",
    "    \n",
    "    #Show top 5 predicted probabilities\n",
    "    predict = sess.run(logits, feed_dict={x: input4d, y: labels})\n",
    "    prob = tf.nn.softmax(predict).eval()\n",
    "    pre = sess.run(tf.nn.top_k(tf.constant(predict), k=5))\n",
    "pre # correct labels = [40,3,26,25,31]"
   ]
  }
 ],
 "metadata": {
  "anaconda-cloud": {},
  "kernelspec": {
   "display_name": "Python 3",
   "language": "python",
   "name": "python3"
  },
  "language_info": {
   "codemirror_mode": {
    "name": "ipython",
    "version": 3
   },
   "file_extension": ".py",
   "mimetype": "text/x-python",
   "name": "python",
   "nbconvert_exporter": "python",
   "pygments_lexer": "ipython3",
   "version": "3.7.6"
  }
 },
 "nbformat": 4,
 "nbformat_minor": 1
}
